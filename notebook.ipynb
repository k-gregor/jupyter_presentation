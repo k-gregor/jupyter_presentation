{
 "cells": [
  {
   "cell_type": "markdown",
   "metadata": {},
   "source": [
    "# Introduction"
   ]
  },
  {
   "cell_type": "markdown",
   "metadata": {},
   "source": [
    "# Markdown"
   ]
  },
  {
   "cell_type": "markdown",
   "metadata": {},
   "source": [
    "# Code"
   ]
  },
  {
   "cell_type": "markdown",
   "metadata": {},
   "source": [
    "# Kernels"
   ]
  },
  {
   "cell_type": "markdown",
   "metadata": {},
   "source": [
    "# Extensions"
   ]
  },
  {
   "cell_type": "markdown",
   "metadata": {},
   "source": [
    "# Making a Presentation\n",
    "\n",
    "1. Mark cells as slides or subslides via the settings tab\n",
    "1. Export via `File --> Export Notebook as --> Reveal.js`"
   ]
  },
  {
   "cell_type": "markdown",
   "metadata": {},
   "source": [
    "# Making a PDF\n",
    "\n",
    "* Can be done directly via `File --> Export Notebook as`\n",
    "* Not perfect. Using LaTeX is better, see below"
   ]
  },
  {
   "cell_type": "markdown",
   "metadata": {},
   "source": [
    "## Latex Templates\n",
    "\n",
    "* Create a `template.tplx` file with LaTeX commands\n",
    "* E.g. `\\tableofcontents`, `\\bibliography`\n",
    "* Create a compile script to export as LaTeX and then transfer to PDF"
   ]
  },
  {
   "cell_type": "markdown",
   "metadata": {},
   "source": [
    "## Citations\n",
    "\n",
    "* Use a `.bib` BiBTeX library file\n",
    "* Get the library e.g. from Mendeley\n",
    "* Include the proper command in LaTeX template: `\\bibliography{my_test_library}`\n",
    "* Use `<cite data-cite=\"Buras2018\"></cite>` to add a citation <cite data-cite=\"Buras2018\"></cite>"
   ]
  },
  {
   "cell_type": "markdown",
   "metadata": {},
   "source": [
    "## Code Input Cells\n",
    "\n",
    "* Can be either hidden or shown\n",
    "* See `template.tplx`"
   ]
  },
  {
   "cell_type": "markdown",
   "metadata": {},
   "source": [
    "# Version Control\n",
    "\n",
    "* Jupyter creates Checkpoints by itself to which you can revert\n",
    "* Tracking changes with `git` problematic\n",
    "* JupyText is a solution\n",
    "* Even better: `nbdime` (https://nbdime.readthedocs.io/en/latest/)"
   ]
  },
  {
   "cell_type": "markdown",
   "metadata": {},
   "source": [
    "# Collaborating"
   ]
  },
  {
   "cell_type": "markdown",
   "metadata": {},
   "source": [
    "## MyBinder: Share Notebook and let others play with it\n",
    "* http://www.mybinder.org\n",
    "* Upload your notebook to GitHub, then create a `Binder` from the GitHub link\n",
    "* Change your notebook --> need to build the binder again\n",
    "* Share the link, others can play around with your notebook\n",
    "* You need an `environment.yml` file for libraries to be installed (before you build the binder)\n",
    "* Note: Does not work for \"fancy\" Kernels, but for Python and R\n",
    "* Can't push data back to GitHub --> this is more a \"show and try out\"-thing"
   ]
  },
  {
   "cell_type": "markdown",
   "metadata": {},
   "source": [
    "## JupyterHub\n",
    "\n",
    "* There is a server running in the background running all the code of the Notebook\n",
    "* This server could be hosted somewhere in the cloud\n",
    "    * Self-hosted\n",
    "    * Paid services\n",
    "    * TNG Analyst Environment\n",
    "* That way, multiple people can edit the same notebook"
   ]
  },
  {
   "cell_type": "markdown",
   "metadata": {},
   "source": [
    "## Long-Term Collaboration\n",
    "\n",
    "* With `git` and a customized workflow, e.g. with extracted `.py`-files, unit tests, `nbdime` for diffing etc..."
   ]
  }
 ],
 "metadata": {
  "kernelspec": {
   "display_name": "Python 3",
   "language": "python",
   "name": "python3"
  },
  "language_info": {
   "codemirror_mode": {
    "name": "ipython",
    "version": 3
   },
   "file_extension": ".py",
   "mimetype": "text/x-python",
   "name": "python",
   "nbconvert_exporter": "python",
   "pygments_lexer": "ipython3",
   "version": "3.7.6"
  }
 },
 "nbformat": 4,
 "nbformat_minor": 4
}
