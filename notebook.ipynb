{
 "cells": [
  {
   "cell_type": "markdown",
   "metadata": {},
   "source": [
    "# Introduction"
   ]
  },
  {
   "cell_type": "markdown",
   "metadata": {},
   "source": [
    "# Markdown"
   ]
  },
  {
   "cell_type": "markdown",
   "metadata": {},
   "source": [
    "# Code"
   ]
  },
  {
   "cell_type": "markdown",
   "metadata": {},
   "source": [
    "# Kernels"
   ]
  },
  {
   "cell_type": "markdown",
   "metadata": {},
   "source": [
    "# Extensions"
   ]
  },
  {
   "cell_type": "markdown",
   "metadata": {},
   "source": [
    "# Making a Presentation"
   ]
  },
  {
   "cell_type": "markdown",
   "metadata": {},
   "source": [
    "# Making a PDF"
   ]
  },
  {
   "cell_type": "markdown",
   "metadata": {},
   "source": [
    "## \"Publication-Ready\" Notebooks"
   ]
  },
  {
   "cell_type": "markdown",
   "metadata": {},
   "source": [
    "### Latex Templates\n",
    "\n",
    "* Create a `template.tlpx` file with LaTeX commands\n",
    "* E.g. `\\tableofcontents`, `\\bibliography`\n",
    "* Create a compile script"
   ]
  },
  {
   "cell_type": "markdown",
   "metadata": {},
   "source": [
    "### Citations\n",
    "\n",
    "* Copy a BibTeX library to the working directory to use all the citations\n",
    "* Get the library e.g. from Mendeley\n",
    "* Include the proper command in LaTeX template\n",
    "* Use `<cite data-cite=\"Evans1989\"></cite>` to add a citation"
   ]
  },
  {
   "cell_type": "markdown",
   "metadata": {},
   "source": [
    "# Version Control\n",
    "\n",
    "* Jupyter creates Checkpoints by itself"
   ]
  },
  {
   "cell_type": "markdown",
   "metadata": {},
   "source": [
    "# Collaborating\n",
    "\n",
    "### MyBinder: Share Notebook and let others play with it\n",
    "* http://www.mybinder.org\n",
    "* Upload your notebook to GitHub, then create a `Binder` from the GitHub link\n",
    "* Change your notebook --> need to build the binder again\n",
    "* Share the link, others can play around with your notebook\n",
    "* You need an `environment.yml` file for libraries to be installed (before you build the binder)\n",
    "* Note: Does not work for \"fancy\" Kernels, but for Python and R\n",
    "* Can't push data back to GitHub --> this is more a \"show and try out\"-thing"
   ]
  }
 ],
 "metadata": {
  "kernelspec": {
   "display_name": "Python 3",
   "language": "python",
   "name": "python3"
  },
  "language_info": {
   "codemirror_mode": {
    "name": "ipython",
    "version": 3
   },
   "file_extension": ".py",
   "mimetype": "text/x-python",
   "name": "python",
   "nbconvert_exporter": "python",
   "pygments_lexer": "ipython3",
   "version": "3.7.6"
  }
 },
 "nbformat": 4,
 "nbformat_minor": 4
}
